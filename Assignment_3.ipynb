{
 "cells": [
  {
   "cell_type": "code",
   "execution_count": 6,
   "metadata": {},
   "outputs": [
    {
     "name": "stdout",
     "output_type": "stream",
     "text": [
      "Welcom To Python Calculator\n",
      "Which Opeartion You Would Like To Perform\n",
      "For Addition Press + \n",
      "For Subtraction Press - \n",
      "For Multiplication Press * \n",
      "For Division Press / \n",
      "For Power Press ^ \n",
      "Enter the operator +\n",
      "Enter the First Number: 10\n",
      "Enter the Second Number: 15\n",
      "Result is: 25\n"
     ]
    }
   ],
   "source": [
    "#Pthon Calculator\n",
    "print (\"Welcom To Python Calculator\")\n",
    "print ('Which Opeartion You Would Like To Perform')\n",
    "print (\"For Addition Press + \")\n",
    "print (\"For Subtraction Press - \")\n",
    "print (\"For Multiplication Press * \")\n",
    "print (\"For Division Press / \")\n",
    "print (\"For Power Press ^ \")\n",
    "operator=input(\"Enter the operator \")\n",
    "num_1=int(input(\"Enter the First Number: \"))\n",
    "num_2=int(input(\"Enter the Second Number: \"))\n",
    "if operator == \"+\":\n",
    "    print(\"Result is:\",num_1+num_2)\n",
    "elif operator == \"-\":\n",
    "    print(\"Result is:\",num_1-num_2)\n",
    "elif operator == \"*\":\n",
    "    print(\"Result is:\",num_1*num_2)\n",
    "elif operator == \"/\":\n",
    "    print(\"Result is:\",num_1/num_2)\n",
    "elif operator == \"^\":\n",
    "    print(\"Result is:\",num_1**num_2)\n",
    "else:\n",
    "    print(\"Sorry You Have Entered Wrong Operator\")"
   ]
  },
  {
   "cell_type": "code",
   "execution_count": 4,
   "metadata": {},
   "outputs": [
    {
     "name": "stdout",
     "output_type": "stream",
     "text": [
      "{'Name': 'Asim', 'Age': 25, 'Height': 5.8}\n",
      "{'Name': 'Asim', 'Age': 25, 'Height': 5.8, 'Gender': 'Male'}\n"
     ]
    }
   ],
   "source": [
    "# Python script to add a key to a dictionary\n",
    "customers={\"Name\":'Asim',\"Age\":25,\"Height\":5.8}\n",
    "print(customers)\n",
    "customers.update({\"Gender\":\"Male\"})\n",
    "print(customers)\n"
   ]
  },
  {
   "cell_type": "code",
   "execution_count": 5,
   "metadata": {},
   "outputs": [
    {
     "name": "stdout",
     "output_type": "stream",
     "text": [
      "dict_values([95, 70, 75, 85])\n",
      "Sum Of All The Numeric Items in a List : 325\n"
     ]
    }
   ],
   "source": [
    "# Python program to sum all the numeric items in a dictionary\n",
    "Total_Marks={\"Maths\":95,\"English\":70,\"Urdu\":75,\"Computer\":85}\n",
    "print(Total_Marks.values())\n",
    "Total=sum(Total_Marks.values())\n",
    "print(\"Sum Of All The Numeric Items in a List :\",Total)"
   ]
  },
  {
   "cell_type": "code",
   "execution_count": 2,
   "metadata": {
    "scrolled": true
   },
   "outputs": [
    {
     "name": "stdout",
     "output_type": "stream",
     "text": [
      "[10, 10, 10, 30, 40, 40, 50, 50]\n",
      "[10, 40, 50]\n"
     ]
    }
   ],
   "source": [
    "# Program to identify duplicate values from list\n",
    "\n",
    "lst = [10,50,30,40,10,10,40,50]\n",
    "lst.sort()\n",
    "print(lst)\n",
    "\n",
    "lst_1=sorted(set(lst))\n",
    "dup_list=[]\n",
    "\n",
    "\n",
    "for i in range(len(lst_1)):\n",
    "    if (lst.count(lst_1[i]) > 1 ):\n",
    "        dup_list.append(lst_1[i])\n",
    "print(dup_list)        "
   ]
  },
  {
   "cell_type": "code",
   "execution_count": 1,
   "metadata": {},
   "outputs": [
    {
     "name": "stdout",
     "output_type": "stream",
     "text": [
      "[10, 50, 40, 10, 10, 40, 50]\n"
     ]
    }
   ],
   "source": [
    "# Program to identify duplicate values from list\n",
    "lst = [10,50,30,40,10,10,40,50]\n",
    "lst_1=[i for i in lst if lst.count(i)>1]\n",
    "print(lst_1)"
   ]
  }
 ],
 "metadata": {
  "kernelspec": {
   "display_name": "Python 3",
   "language": "python",
   "name": "python3"
  },
  "language_info": {
   "codemirror_mode": {
    "name": "ipython",
    "version": 3
   },
   "file_extension": ".py",
   "mimetype": "text/x-python",
   "name": "python",
   "nbconvert_exporter": "python",
   "pygments_lexer": "ipython3",
   "version": "3.7.0"
  }
 },
 "nbformat": 4,
 "nbformat_minor": 2
}
