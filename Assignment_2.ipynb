{
 "cells": [
  {
   "cell_type": "code",
   "execution_count": 13,
   "metadata": {},
   "outputs": [
    {
     "name": "stdout",
     "output_type": "stream",
     "text": [
      "Enter your English marks:84\n",
      "Enter your Physics marks:85\n",
      "Enter your Chemistry marks:86\n",
      "Enter your Maths marks:99\n",
      "Enter your Islamiyat marks:99\n",
      "Your Percentage is: 90\n",
      "A-1 Grade\n"
     ]
    }
   ],
   "source": [
    "'''\n",
    "Write a program which takes 5 inputs from user for different subject’s\n",
    "marks, total it and generate mark sheet using grades ?\n",
    "\n",
    "'''\n",
    "english=int(input(\"Enter your English marks:\"))\n",
    "physics=int(input(\"Enter your Physics marks:\"))\n",
    "chemistry=int(input(\"Enter your Chemistry marks:\"))\n",
    "maths=int(input(\"Enter your Maths marks:\"))\n",
    "islamiyat=int(input(\"Enter your Islamiyat marks:\"))\n",
    "total=english+physics+chemistry+maths+islamiyat\n",
    "percentage=(total/500)*100\n",
    "print(\"Your Percentage is:\",int(percentage))\n",
    "if ((percentage >= 80) and (percentage <=100)):\n",
    "   print(\"A-1 Grade\")\n",
    "elif ((percentage <=79) and (percentage>=70)):\n",
    "   print(\"B Grade\")\n",
    "elif ((percentage <=69) and (percentage>=60)):\n",
    "   print(\"C Grade\")\n",
    "elif ((percentage <=59) and (percentage>=50)):\n",
    "   print(\"D Grade\")\n",
    "else:\n",
    "    print(\"Failed\")\n",
    "\n",
    " "
   ]
  },
  {
   "cell_type": "code",
   "execution_count": 14,
   "metadata": {},
   "outputs": [
    {
     "name": "stdout",
     "output_type": "stream",
     "text": [
      "Enter thr numbrr : 85\n",
      "Number is odd\n"
     ]
    }
   ],
   "source": [
    "#Find the Number is even or odd\n",
    "number=int(input(\"Enter thr numbrr : \"))\n",
    "if number%2==0 :\n",
    "    print(\"Number is even\")\n",
    "else:\n",
    "    print(\"Number is odd\")\n"
   ]
  },
  {
   "cell_type": "code",
   "execution_count": 15,
   "metadata": {},
   "outputs": [
    {
     "name": "stdout",
     "output_type": "stream",
     "text": [
      "[55, 54, 'Asim', -10, 58]\n",
      "5\n"
     ]
    }
   ],
   "source": [
    "#Printing Length of List\n",
    "list=[55,54, \"Asim\", -10, 58]\n",
    "print(list) #Printing List\n",
    "print(len(list)) #Printing Length of the List\n"
   ]
  },
  {
   "cell_type": "code",
   "execution_count": 16,
   "metadata": {},
   "outputs": [
    {
     "name": "stdout",
     "output_type": "stream",
     "text": [
      "110\n",
      "44\n"
     ]
    }
   ],
   "source": [
    "# Python program to get the largest number from a numeric list.\n",
    "list=[55, 44, 67,89, 110]\n",
    "print(max(list)) #Printing max number from list\n",
    "print(min(list)) #Printing min number from list\n"
   ]
  },
  {
   "cell_type": "code",
   "execution_count": 17,
   "metadata": {},
   "outputs": [
    {
     "name": "stdout",
     "output_type": "stream",
     "text": [
      "Sum of all items in a list is : 45\n"
     ]
    }
   ],
   "source": [
    "\n",
    "#Python program to sum all the numeric items in a list\n",
    "list= [1, 2, 3, 4, 5, 6, 7, 8, 9]\n",
    "sum=0\n",
    "for i  in  list:\n",
    "    sum+= i\n",
    "print (\"Sum of all items in a list is :\",sum)\n"
   ]
  },
  {
   "cell_type": "code",
   "execution_count": 18,
   "metadata": {},
   "outputs": [
    {
     "name": "stdout",
     "output_type": "stream",
     "text": [
      "Enter your list of numbers: \t\n",
      "55 88 65 20 10 11 15\n",
      "Enter a number and you will get all the smaller than your given number :20\n",
      "10\n",
      "11\n",
      "15\n"
     ]
    }
   ],
   "source": [
    "#Program that prints out all the elements of the list that are less than 5\n",
    "def findele():\n",
    " n=int(input(\"Enter a number and you will get all the smaller than your given number :\"))\n",
    " for x in a:\n",
    "    if x < n:\n",
    "     print(x)\n",
    "        \n",
    "print(\"Enter your list of numbers: \\t\")        \n",
    "a=[int(x) for x in input().split()]\n",
    "findele()\n"
   ]
  },
  {
   "cell_type": "code",
   "execution_count": null,
   "metadata": {},
   "outputs": [],
   "source": []
  }
 ],
 "metadata": {
  "kernelspec": {
   "display_name": "Python 3",
   "language": "python",
   "name": "python3"
  },
  "language_info": {
   "codemirror_mode": {
    "name": "ipython",
    "version": 3
   },
   "file_extension": ".py",
   "mimetype": "text/x-python",
   "name": "python",
   "nbconvert_exporter": "python",
   "pygments_lexer": "ipython3",
   "version": "3.7.0"
  }
 },
 "nbformat": 4,
 "nbformat_minor": 2
}
