{
 "cells": [
  {
   "cell_type": "code",
   "execution_count": 59,
   "metadata": {
    "scrolled": true
   },
   "outputs": [
    {
     "name": "stdout",
     "output_type": "stream",
     "text": [
      "Twinkle, twinkle, little star,\n",
      "\tHow I wonder what you are!\n",
      "\t\tUp above the world so high,\n",
      "\t\tLike a diamond in the sky.\n",
      "Twinkle, twinkle, little star,\n",
      "\tHow I wonder what you are!\n"
     ]
    }
   ],
   "source": [
    "#Printing in a specific format\n",
    "print(\"Twinkle, twinkle, little star,\")\n",
    "print(\"\\tHow I wonder what you are!\")\n",
    "print(\"\\t\\tUp above the world so high,\")\n",
    "print(\"\\t\\tLike a diamond in the sky.\")\n",
    "print(\"Twinkle, twinkle, little star,\")\n",
    "print(\"\\tHow I wonder what you are!\")\n"
   ]
  },
  {
   "cell_type": "code",
   "execution_count": 45,
   "metadata": {},
   "outputs": [
    {
     "name": "stdout",
     "output_type": "stream",
     "text": [
      "3.7.0\n"
     ]
    }
   ],
   "source": [
    "#Python_version\n",
    "from platform import python_version\n",
    "print(python_version())"
   ]
  },
  {
   "cell_type": "code",
   "execution_count": 3,
   "metadata": {},
   "outputs": [
    {
     "name": "stdout",
     "output_type": "stream",
     "text": [
      "Sat Nov  2 13:22:41 2019\n"
     ]
    }
   ],
   "source": [
    "#Displaying Current Time\n",
    "import time\n",
    "epochseconds=time.time()\n",
    "t=time.ctime(epochseconds)\n",
    "print(t)\n"
   ]
  },
  {
   "cell_type": "code",
   "execution_count": 5,
   "metadata": {},
   "outputs": [
    {
     "name": "stdout",
     "output_type": "stream",
     "text": [
      "Enter the radius5\n",
      "Area is: 78.53981633974483\n"
     ]
    }
   ],
   "source": [
    "#Computing The Area Of Circle \n",
    "import math\n",
    "r=float(input(\"Enter the radius\"))\n",
    "area=math.pi*r**2\n",
    "print(\"Area is:\",area)\n"
   ]
  },
  {
   "cell_type": "code",
   "execution_count": 7,
   "metadata": {},
   "outputs": [
    {
     "name": "stdout",
     "output_type": "stream",
     "text": [
      "Enter first name :Asim\n",
      "Enter last name :Alizai\n",
      "iazilA misA\n"
     ]
    }
   ],
   "source": [
    "#Printing First And Last Name in Resverse Order\n",
    "fname=input(\"Enter first name :\")\n",
    "lname=input(\"Enter last name :\")\n",
    "fullname=fname+\" \"+lname\n",
    "#print(len(fullname))\n",
    "#print(fullname[0:])\n",
    "print(fullname[10::-1])\n"
   ]
  },
  {
   "cell_type": "code",
   "execution_count": 8,
   "metadata": {},
   "outputs": [
    {
     "name": "stdout",
     "output_type": "stream",
     "text": [
      "Enter first no :5\n",
      "Enter second no :6\n",
      "11\n"
     ]
    }
   ],
   "source": [
    "#Calculating The Sum Of Two Numbers\n",
    "first_no=int(input(\"Enter first no :\" ))\n",
    "second_no=int(input(\"Enter second no :\"))\n",
    "sum=first_no + second_no\n",
    "print(sum)\n"
   ]
  }
 ],
 "metadata": {
  "kernelspec": {
   "display_name": "Python 3",
   "language": "python",
   "name": "python3"
  },
  "language_info": {
   "codemirror_mode": {
    "name": "ipython",
    "version": 3
   },
   "file_extension": ".py",
   "mimetype": "text/x-python",
   "name": "python",
   "nbconvert_exporter": "python",
   "pygments_lexer": "ipython3",
   "version": "3.7.0"
  }
 },
 "nbformat": 4,
 "nbformat_minor": 2
}
