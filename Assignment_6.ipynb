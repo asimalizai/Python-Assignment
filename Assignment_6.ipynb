{
 "cells": [
  {
   "cell_type": "code",
   "execution_count": null,
   "metadata": {},
   "outputs": [],
   "source": [
    "#Define Object Oriented Programming Language?\n",
    "Object-Oriented Programming (OOP) represents an attempt to make programs more closely\n",
    "model the way people think about and deal with the world. Object-oriented programming is a\n",
    "paradigm in which a software system is decomposed into subsystems based on objects. \n",
    "Computation is done by objects exchanging messages among themselves. The paradigm\n",
    "enhances software maintainability, extensibility and reusability"
   ]
  },
  {
   "cell_type": "code",
   "execution_count": null,
   "metadata": {},
   "outputs": [],
   "source": [
    "#List down the Benefits of OOP?\n",
    "1. Modularity for easier troubleshooting\n",
    "2. Reuse of code through inheritance\n",
    "3. Flexibility through polymorphism\n",
    "4. Effective problem solving\n"
   ]
  },
  {
   "cell_type": "code",
   "execution_count": null,
   "metadata": {},
   "outputs": [],
   "source": [
    "#Differentiate between function and method?\n",
    "1)Simply, function and method both look similar as they perform in almost similar way,\n",
    "but the key difference is the concept of ‘Class and its Object‘.\n",
    "2)Functions can be called only by its name, as it is defined independently.\n",
    "But methods can’t be called by its name only, we need to invoke the class by a reference of that class in which it is defined,\n",
    "i.e. method is defined within a class and hence they are dependent on that class.\n"
   ]
  },
  {
   "cell_type": "code",
   "execution_count": null,
   "metadata": {},
   "outputs": [],
   "source": [
    "#Define the following terms:\n",
    "1. Class :Classes are data types based on which objects are created. Objects with similar attributes and\n",
    "methods are grouped together to form a class.Class is a logical abstraction.\n",
    "2. Object :Object is the basic unit of object oriented programming. Object represents a Physical/real\n",
    "   entity\n",
    "3. Attribute : The states of an object represent all the information held within it\n",
    "4. Behavior : Behavior of an object is the set of action that it can perform to change the\n",
    "state of the object.\n"
   ]
  },
  {
   "cell_type": "code",
   "execution_count": 15,
   "metadata": {},
   "outputs": [
    {
     "name": "stdout",
     "output_type": "stream",
     "text": [
      "2016\n",
      "Black\n",
      "Mira\n",
      "Toyota\n",
      "Amir\n",
      "\n",
      "Saqib\n",
      "White\n"
     ]
    }
   ],
   "source": [
    "class Car():\n",
    "    def __init__(self, model,color,name,brand,Owner_name):\n",
    "        self.model = model\n",
    "        self.color = color\n",
    "        self.name = name\n",
    "        self.Owner_name = Owner_name\n",
    "        self.brand = brand\n",
    "    def new_owner(self,n_owner):\n",
    "        self.Owner_name=n_owner\n",
    "    def new_color(self,n_color):\n",
    "        self.color=n_color\n",
    "                           \n",
    "        \n",
    "car1 = Car(2016,\"Black\",\"Mira\",\"Toyota\",\"Amir\")\n",
    "car2 = Car(2015,\"White\",\"Mira\",\"Toyota\",\"Aslam\")\n",
    "car3 = Car(2014,\"Red\",\"Corolla\",\"Toyota\",\"Asim\")\n",
    "car4 = Car(2020,\"Black\",\"Mira\",\"Nissan\",\"Aqiq\")\n",
    "car5 = Car(2012,\"White\",\"Revo\",\"Toyota\",\"Asif\")\n",
    "print(car1.model)\n",
    "print(car1.color)\n",
    "print(car1.name)\n",
    "print(car1.brand)\n",
    "print(car1.Owner_name)\n",
    "print()\n",
    "car1.new_owner(\"Saqib\")\n",
    "car1.new_color(\"White\")\n",
    "print(car1.Owner_name)\n",
    "print(car1.color)\n",
    "\n",
    "\n"
   ]
  }
 ],
 "metadata": {
  "kernelspec": {
   "display_name": "Python 3",
   "language": "python",
   "name": "python3"
  },
  "language_info": {
   "codemirror_mode": {
    "name": "ipython",
    "version": 3
   },
   "file_extension": ".py",
   "mimetype": "text/x-python",
   "name": "python",
   "nbconvert_exporter": "python",
   "pygments_lexer": "ipython3",
   "version": "3.7.0"
  }
 },
 "nbformat": 4,
 "nbformat_minor": 2
}
